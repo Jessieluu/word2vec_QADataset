{
 "cells": [
  {
   "cell_type": "code",
   "execution_count": 163,
   "metadata": {},
   "outputs": [],
   "source": [
    "from gensim.models import word2vec\n",
    "from gensim import models\n",
    "from pprint import pprint\n",
    "from scipy import spatial\n",
    "import numpy as np\n",
    "import time\n",
    "import os\n",
    "import json\n",
    "import csv"
   ]
  },
  {
   "cell_type": "code",
   "execution_count": 164,
   "metadata": {},
   "outputs": [],
   "source": [
    "def loadModel(path):\n",
    "    model = models.Word2Vec.load(path)\n",
    "    print(\"Success load model!\")\n",
    "    return model"
   ]
  },
  {
   "cell_type": "code",
   "execution_count": 165,
   "metadata": {},
   "outputs": [],
   "source": [
    "def readData(path):\n",
    "    t = time.time()\n",
    "    with open(path, 'r') as reader:\n",
    "        data = json.loads(reader.read())\n",
    "    print(\"It took %.2f sec to read data\" % (time.time() - t))\n",
    "    print(data)\n",
    "    return data"
   ]
  },
  {
   "cell_type": "code",
   "execution_count": 166,
   "metadata": {},
   "outputs": [],
   "source": [
    "# ==================\n",
    "#       method 2\n",
    "# ==================\n",
    "def generateAnswer(data):\n",
    "    C_con = np.zeros(250, dtype = float)\n",
    "    QA_con = np.zeros((250, 250), dtype = float)\n",
    "    ca = data['correct_answer']\n",
    "    anslist = ['A', 'B', 'C', 'D']\n",
    "    C_list = data['corpus']\n",
    "    QA_list = []               \n",
    "    \n",
    "    for j in range (0, 4):           \n",
    "        QA_list.append(data['question'])      \n",
    "        \n",
    "    for word in C_list:\n",
    "        try:\n",
    "            vector = model[word]\n",
    "        except KeyError as e:\n",
    "            continue\n",
    "        for i in range(250):\n",
    "            C_con[i] += vector[i]\n",
    "    \n",
    "    for i in range(250):\n",
    "        C_con[i] /= 250\n",
    "\n",
    "    for j in range(0, 4):\n",
    "        QA_list[j].extend(data['answer'][j])\n",
    "        for word in QA_list[j]:\n",
    "            try:\n",
    "                vector = model[word]\n",
    "            except KeyError as e:\n",
    "                continue\n",
    "            for i in range(250):\n",
    "                QA_con[j][i] += vector[i]\n",
    "            for i in range(250):\n",
    "                QA_con[j][i] /= 250\n",
    "\n",
    "\n",
    "    ini = 0\n",
    "    high_cq = 0\n",
    "    i = 0\n",
    "    ans = 0\n",
    "    \n",
    "    for qa in QA_con:\n",
    "        cos = 1 - spatial.distance.cosine(C_con, qa)\n",
    "        if cos > ini:\n",
    "            ini = cos\n",
    "            high = qa\n",
    "            ans = i\n",
    "        i += 1\n",
    "    \n",
    "    tag = (anslist[ans] == ca )\n",
    "    print(\"The predict answer is %s.\" %(anslist[ans]))\n",
    "    print(\"The correct answer is %s.\" %ca)\n",
    "    return tag"
   ]
  },
  {
   "cell_type": "code",
   "execution_count": 167,
   "metadata": {},
   "outputs": [],
   "source": [
    "def main():\n",
    "    t = time.time()\n",
    "    pathModel = '../word2vec/wiki/python/word2vec.model'\n",
    "    pathData = '../CQA/CQA_'\n",
    "    totalData = 394\n",
    "    count = 0\n",
    "    tagList = False \n",
    "    \n",
    "#======  read data in for loop  ======\n",
    "    for i in range(0, 394):\n",
    "        print(\"Start reading data in\" + pathData + str(i) + '.json')\n",
    "        jsonData = readData(pathData + str(i) + '.json')\n",
    "        \n",
    "        print(\"Start generate output of\" + pathData + str(i) + '.json')\n",
    "        ansTag = generateAnswer(jsonData)\n",
    "        \n",
    "        if ansTag == True:\n",
    "            count +=1\n",
    "    accuracy = (count/totalData)*100\n",
    "    print(\"=========Finished========\")\n",
    "    print(\"The accuracy is %.2f percent\" % accuracy )\n",
    "    print(\"It took %.2f sec to process\" % (time.time() - t))\n",
    "    \n",
    "    output_title = \"wiki_avg_accuracy\"\n",
    "    \n",
    "#====== output data =======\n",
    "#     print(\"Output......\")\n",
    "    \n",
    "#     with open(\"method2.txt\", 'a+') as file:\n",
    "#         file.write(\"\\n\")\n",
    "#         file.write(\"wiki_avg_accuracy\")\n",
    "#         file.write(\"\\n\")\n",
    "#         file.write(str(accuracy))\n",
    "\n",
    "#     print(\"Output done!\")"
   ]
  },
  {
   "cell_type": "code",
   "execution_count": null,
   "metadata": {
    "scrolled": false
   },
   "outputs": [],
   "source": [
    "pathModel = '../word2vec/wiki/python/word2vec.model'\n",
    "model = models.Word2Vec.load(pathModel)\n",
    "print(\"Success load model!\")\n",
    "\n",
    "if __name__ == \"__main__\":\n",
    "    main()"
   ]
  },
  {
   "cell_type": "code",
   "execution_count": null,
   "metadata": {},
   "outputs": [],
   "source": []
  },
  {
   "cell_type": "code",
   "execution_count": null,
   "metadata": {},
   "outputs": [],
   "source": []
  },
  {
   "cell_type": "code",
   "execution_count": null,
   "metadata": {},
   "outputs": [],
   "source": []
  },
  {
   "cell_type": "code",
   "execution_count": null,
   "metadata": {},
   "outputs": [],
   "source": []
  },
  {
   "cell_type": "code",
   "execution_count": null,
   "metadata": {},
   "outputs": [],
   "source": []
  }
 ],
 "metadata": {
  "kernelspec": {
   "display_name": "Python 3",
   "language": "python",
   "name": "python3"
  },
  "language_info": {
   "codemirror_mode": {
    "name": "ipython",
    "version": 3
   },
   "file_extension": ".py",
   "mimetype": "text/x-python",
   "name": "python",
   "nbconvert_exporter": "python",
   "pygments_lexer": "ipython3",
   "version": "3.6.5"
  }
 },
 "nbformat": 4,
 "nbformat_minor": 2
}
